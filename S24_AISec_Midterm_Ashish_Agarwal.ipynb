{
  "cells": [
    {
      "cell_type": "markdown",
      "metadata": {
        "id": "esNWMzKrVuWc"
      },
      "source": [
        "**Revised on 3/5/2024: Changed source files**\n",
        "\n",
        "This is the skeleton code for Task 1 of the midterm project. The files that are downloaded in step 4 are based on the [Ember 2018 dataset](https://arxiv.org/abs/1804.04637), and contain the features (and corresponding labels) extracted from 1 million PE files, split into 80\\% training and 20\\% test datasets. The code used for for feature extraction is available [here](https://colab.research.google.com/drive/16q9bOlCmnTquPtVXVzxUj4ZY1ORp10R2?usp=sharing). However, the preprocessing and featurization process may take up to 3 hours on Google Colab. Hence, I recommend using the processed datasets (Step 4) to speed up your development.\n",
        "\n",
        "Also, note that there is a new optional step 8.5 - To speed up your experiments, you may want to sample the original dataset of 800k training samples and 200k test samples to smaller datasets.\n",
        "\n",
        "**Step 1:** Mount your Google Drive by clicking on \"Mount Drive\" in the Files section (panel to the left of this text.)\n",
        "\n",
        "**Step 2:** Go to Runtime -> Change runtime type and select T4 GPU.\n",
        "\n",
        "**Step 3:** Create a folder in your Google Drive, and rename it to \"vMalConv\"\n",
        "\n",
        "**Step 4:** Download the pre-processed training and test datasets."
      ]
    },
    {
      "cell_type": "code",
      "execution_count": null,
      "metadata": {
        "colab": {
          "base_uri": "https://localhost:8080/"
        },
        "id": "eUq_FZwmZegw",
        "outputId": "3b2dcd6c-c643-45a9-f8d2-b451a73c2c42"
      },
      "outputs": [
        {
          "name": "stdout",
          "output_type": "stream",
          "text": [
            "--2024-03-12 11:31:59--  https://dsci6015s24-midterm.s3.amazonaws.com/v2/X_train.dat\n",
            "Resolving dsci6015s24-midterm.s3.amazonaws.com (dsci6015s24-midterm.s3.amazonaws.com)... 3.5.29.102, 52.216.57.57, 52.217.131.97, ...\n",
            "Connecting to dsci6015s24-midterm.s3.amazonaws.com (dsci6015s24-midterm.s3.amazonaws.com)|3.5.29.102|:443... connected.\n",
            "HTTP request sent, awaiting response... 200 OK\n",
            "Length: 7619200000 (7.1G) [binary/octet-stream]\n",
            "Saving to: ‘X_train.dat’\n",
            "\n",
            "X_train.dat           4%[                    ] 321.54M  44.9MB/s    eta 2m 47s ^C\n",
            "--2024-03-12 11:32:08--  https://dsci6015s24-midterm.s3.amazonaws.com/v2/X_test.dat\n",
            "Resolving dsci6015s24-midterm.s3.amazonaws.com (dsci6015s24-midterm.s3.amazonaws.com)... 52.216.37.153, 52.217.134.193, 3.5.25.212, ...\n",
            "Connecting to dsci6015s24-midterm.s3.amazonaws.com (dsci6015s24-midterm.s3.amazonaws.com)|52.216.37.153|:443... connected.\n",
            "HTTP request sent, awaiting response... 200 OK\n",
            "Length: 1904800000 (1.8G) [binary/octet-stream]\n",
            "Saving to: ‘X_test.dat’\n",
            "\n",
            "X_test.dat           30%[=====>              ] 558.12M  43.3MB/s    eta 30s    ^C\n",
            "--2024-03-12 11:32:22--  https://dsci6015s24-midterm.s3.amazonaws.com/v2/y_train.dat\n",
            "Resolving dsci6015s24-midterm.s3.amazonaws.com (dsci6015s24-midterm.s3.amazonaws.com)... 54.231.229.201, 52.217.160.81, 52.217.70.28, ...\n",
            "Connecting to dsci6015s24-midterm.s3.amazonaws.com (dsci6015s24-midterm.s3.amazonaws.com)|54.231.229.201|:443... connected.\n",
            "HTTP request sent, awaiting response... 200 OK\n",
            "Length: 3200000 (3.1M) [binary/octet-stream]\n",
            "Saving to: ‘y_train.dat’\n",
            "\n",
            "y_train.dat         100%[===================>]   3.05M  6.98MB/s    in 0.4s    \n",
            "\n",
            "2024-03-12 11:32:22 (6.98 MB/s) - ‘y_train.dat’ saved [3200000/3200000]\n",
            "\n",
            "--2024-03-12 11:32:23--  https://dsci6015s24-midterm.s3.amazonaws.com/v2/y_test.dat\n",
            "Resolving dsci6015s24-midterm.s3.amazonaws.com (dsci6015s24-midterm.s3.amazonaws.com)... 54.231.229.201, 52.217.160.81, 52.217.70.28, ...\n",
            "Connecting to dsci6015s24-midterm.s3.amazonaws.com (dsci6015s24-midterm.s3.amazonaws.com)|54.231.229.201|:443... connected.\n",
            "HTTP request sent, awaiting response... 200 OK\n",
            "Length: 800000 (781K) [binary/octet-stream]\n",
            "Saving to: ‘y_test.dat’\n",
            "\n",
            "y_test.dat          100%[===================>] 781.25K  2.44MB/s    in 0.3s    \n",
            "\n",
            "2024-03-12 11:32:23 (2.44 MB/s) - ‘y_test.dat’ saved [800000/800000]\n",
            "\n"
          ]
        }
      ],
      "source": [
        "# # ~8GB\n",
        "# !wget https://dsci6015s24-midterm.s3.amazonaws.com/v2/X_train.dat\n",
        "# !wget https://dsci6015s24-midterm.s3.amazonaws.com/v2/X_test.dat\n",
        "# !wget https://dsci6015s24-midterm.s3.amazonaws.com/v2/y_train.dat\n",
        "# !wget https://dsci6015s24-midterm.s3.amazonaws.com/v2/y_test.dat\n",
        "# !wget https://dsci6015s24-midterm.s3.amazonaws.com/v2/metadata.csv"
      ]
    },
    {
      "cell_type": "code",
      "execution_count": null,
      "metadata": {
        "colab": {
          "base_uri": "https://localhost:8080/"
        },
        "id": "AQ_JdZKfG7Q-",
        "outputId": "d3292c0c-e46d-4b6f-e886-570f334e089b"
      },
      "outputs": [
        {
          "name": "stdout",
          "output_type": "stream",
          "text": [
            "Mounted at /content/drive\n"
          ]
        }
      ],
      "source": [
        "from google.colab import drive\n",
        "drive.mount('/content/drive')"
      ]
    },
    {
      "cell_type": "markdown",
      "metadata": {
        "id": "9V958PbDW3H0"
      },
      "source": [
        "**Step 5:** Copy the downloaded files to vMalConv"
      ]
    },
    {
      "cell_type": "code",
      "execution_count": null,
      "metadata": {
        "id": "llip77F3amma"
      },
      "outputs": [],
      "source": [
        "# !cp /content/X_train.dat /content/drive/MyDrive/vMalConv/X_train.dat\n",
        "# !cp /content/X_test.dat /content/drive/MyDrive/vMalConv/X_test.dat\n",
        "# !cp /content/y_train.dat /content/drive/MyDrive/vMalConv/y_train.dat\n",
        "# !cp /content/y_test.dat /content/drive/MyDrive/vMalConv/y_test.dat\n",
        "# !cp /content/metadata.csv /content/drive/MyDrive/vMalConv/metadata.csv"
      ]
    },
    {
      "cell_type": "markdown",
      "metadata": {
        "id": "QbRilyqTXnrE"
      },
      "source": [
        "**Step 6:** Download and install Ember:"
      ]
    },
    {
      "cell_type": "code",
      "execution_count": null,
      "metadata": {
        "colab": {
          "base_uri": "https://localhost:8080/"
        },
        "id": "76bc7PEmlwKB",
        "outputId": "d9b92917-33a1-44ac-818d-2adc836cac5d"
      },
      "outputs": [
        {
          "name": "stdout",
          "output_type": "stream",
          "text": [
            "Collecting git+https://github.com/PFGimenez/ember.git\n",
            "  Cloning https://github.com/PFGimenez/ember.git to /tmp/pip-req-build-jhdwlrk3\n",
            "  Running command git clone --filter=blob:none --quiet https://github.com/PFGimenez/ember.git /tmp/pip-req-build-jhdwlrk3\n",
            "  Resolved https://github.com/PFGimenez/ember.git to commit 3b82fe63069884882e743af725d29cc2a67859f1\n",
            "  Preparing metadata (setup.py) ... \u001b[?25l\u001b[?25hdone\n",
            "Building wheels for collected packages: ember\n",
            "  Building wheel for ember (setup.py) ... \u001b[?25l\u001b[?25hdone\n",
            "  Created wheel for ember: filename=ember-0.1.0-py3-none-any.whl size=13050 sha256=787574ee297244ae9c5a46e1e01c95b501b16e98dd6ec14608c8b444c235ded7\n",
            "  Stored in directory: /tmp/pip-ephem-wheel-cache-6o19cmo9/wheels/8f/69/f9/1917c8df03b25fe53e8e2f6cb2c9f61a43dec179b19b10ab9f\n",
            "Successfully built ember\n",
            "Installing collected packages: ember\n",
            "Successfully installed ember-0.1.0\n"
          ]
        }
      ],
      "source": [
        "!pip install git+https://github.com/PFGimenez/ember.git"
      ]
    },
    {
      "cell_type": "code",
      "execution_count": null,
      "metadata": {
        "colab": {
          "base_uri": "https://localhost:8080/"
        },
        "id": "8aRVMSwCQT7D",
        "outputId": "e0321358-e5f6-41f8-fc1d-163d645af23e"
      },
      "outputs": [
        {
          "name": "stdout",
          "output_type": "stream",
          "text": [
            "Collecting lief\n",
            "  Downloading lief-0.14.1-cp310-cp310-manylinux_2_28_x86_64.manylinux_2_27_x86_64.whl (2.7 MB)\n",
            "\u001b[2K     \u001b[90m━━━━━━━━━━━━━━━━━━━━━━━━━━━━━━━━━━━━━━━━\u001b[0m \u001b[32m2.7/2.7 MB\u001b[0m \u001b[31m9.6 MB/s\u001b[0m eta \u001b[36m0:00:00\u001b[0m\n",
            "\u001b[?25hInstalling collected packages: lief\n",
            "Successfully installed lief-0.14.1\n"
          ]
        }
      ],
      "source": [
        "!pip install lief"
      ]
    },
    {
      "cell_type": "markdown",
      "metadata": {
        "id": "AXym5qd8Yv8f"
      },
      "source": [
        "**Step 7:** Read vectorized features from the data files."
      ]
    },
    {
      "cell_type": "code",
      "execution_count": null,
      "metadata": {
        "id": "GfcHyoTsmCFH"
      },
      "outputs": [],
      "source": [
        "# import ember\n",
        "# X_train, y_train, X_test, y_test = ember.read_vectorized_features(\"drive/MyDrive/vMalConv/\")\n",
        "# metadata_dataframe = ember.read_metadata(\"drive/MyDrive/vMalConv/\")"
      ]
    },
    {
      "cell_type": "markdown",
      "metadata": {
        "id": "FTRCz7m7Z7EH"
      },
      "source": [
        "**Step 8:** Get rid of rows with no labels."
      ]
    },
    {
      "cell_type": "code",
      "execution_count": null,
      "metadata": {
        "id": "5DEQWb07NGgA"
      },
      "outputs": [],
      "source": [
        "import pickle\n",
        "import numpy as np\n",
        "import sklearn\n",
        "from sklearn.preprocessing import MinMaxScaler"
      ]
    },
    {
      "cell_type": "code",
      "execution_count": null,
      "metadata": {
        "id": "Zj63lcvin44q"
      },
      "outputs": [],
      "source": [
        "#  labelrows = (y_train != -1)\n",
        "# X_train = X_train[labelrows]\n",
        "# y_train = y_train[labelrows]"
      ]
    },
    {
      "cell_type": "code",
      "execution_count": null,
      "metadata": {
        "id": "KLZmJ9hAkzQP"
      },
      "outputs": [],
      "source": [
        "# print(\"X_train.shape:\",X_train.shape)\n",
        "# print(\"y_train.shape:\",y_train.shape)\n",
        "# print(\"X_test.shape:\",X_test.shape)\n",
        "# print(\"y_test.shape:\",y_test.shape)"
      ]
    },
    {
      "cell_type": "code",
      "execution_count": null,
      "metadata": {
        "id": "h-WAOCvzM6jI"
      },
      "outputs": [],
      "source": [
        "# Save X_train and y_train as Pickle files\n",
        "# with open('X_train.pkl', 'wb') as file:\n",
        "#     pickle.dump(X_train, file)\n",
        "\n",
        "# with open('y_train.pkl', 'wb') as file:\n",
        "#     pickle.dump(y_train, file)"
      ]
    },
    {
      "cell_type": "code",
      "execution_count": null,
      "metadata": {
        "id": "JFFkwIS_NUc4"
      },
      "outputs": [],
      "source": [
        "# !cp /content/X_train.pkl /content/drive/MyDrive/vMalConv/X_train.pkl\n",
        "# !cp /content/y_train.pkl /content/drive/MyDrive/vMalConv/y_train.pkl"
      ]
    },
    {
      "cell_type": "code",
      "execution_count": null,
      "metadata": {
        "id": "mVG59AGooyC5"
      },
      "outputs": [],
      "source": [
        "# X_train, y_train  = None, None\n",
        "# # # Load X_train and y_train from Pickle files\n",
        "# with open('/content/drive/MyDrive/vMalConv/X_train.pkl', 'rb') as file:\n",
        "#     X_train = pickle.load(file)\n",
        "\n",
        "# with open('/content/drive/MyDrive/vMalConv/y_train.pkl', 'rb') as file:\n",
        "#     y_train = pickle.load(file)"
      ]
    },
    {
      "cell_type": "markdown",
      "metadata": {
        "id": "tKoXSzp59RN-"
      },
      "source": [
        "**Optional Step 8.5:** To speed up your experiments, you may want to sample the original dataset of 800k training samples and 200k test samples to smaller datasets. You can use the [Pandas Dataframe sample() method](https://pandas.pydata.org/pandas-docs/stable/reference/api/pandas.DataFrame.sample.html), or come up with your own sampling methodology. Be mindful of the fact that the database is heavily imbalanced."
      ]
    },
    {
      "cell_type": "code",
      "execution_count": null,
      "metadata": {
        "id": "-X9wwv_n9QkY"
      },
      "outputs": [],
      "source": [
        "# ### Your code (optional) for sampling the original dataset.\n",
        "# # Number of samples to keep for each class\n",
        "# samples_per_class = 60000\n",
        "\n",
        "# # Unique classes in y_train and their counts\n",
        "# unique_classes, class_counts = np.unique(y_train, return_counts=True)\n",
        "\n",
        "# # Set the seed for reproducibility\n",
        "# np.random.seed(42)\n",
        "\n",
        "# # Empty arrays to store sampled data\n",
        "# sampled_X_train = []\n",
        "# sampled_y_train = []\n",
        "\n",
        "# # Iterate through each class\n",
        "# for class_label, count in zip(unique_classes, class_counts):\n",
        "#     # Get indices of samples belonging to the current class\n",
        "#     class_indices = np.where(y_train == class_label)[0]\n",
        "\n",
        "#     # Randomly sample\n",
        "#     sampled_indices = np.random.choice(class_indices, size=min(samples_per_class, count), replace=False)\n",
        "\n",
        "#     # Append sampled data to the result arrays\n",
        "#     sampled_X_train.append(X_train[sampled_indices])\n",
        "#     sampled_y_train.append(y_train[sampled_indices])\n",
        "\n",
        "# # Concatenate the sampled data\n",
        "# sampled_X_train = np.concatenate(sampled_X_train, axis=0)\n",
        "# sampled_y_train = np.concatenate(sampled_y_train, axis=0)\n",
        "\n",
        "# # Shuffle the sampled data (optional)\n",
        "# shuffle_indices = np.random.permutation(len(sampled_X_train))\n",
        "# sampled_X_train = sampled_X_train[shuffle_indices]\n",
        "# sampled_y_train = sampled_y_train[shuffle_indices]"
      ]
    },
    {
      "cell_type": "code",
      "execution_count": null,
      "metadata": {
        "id": "vIuN0i55NqRp"
      },
      "outputs": [],
      "source": [
        "# with open('sampled_X_train_100k.pkl', 'wb') as file:\n",
        "#     pickle.dump(sampled_X_train, file)\n",
        "\n",
        "# with open('sampled_y_train_100k.pkl', 'wb') as file:\n",
        "#     pickle.dump(sampled_y_train, file)"
      ]
    },
    {
      "cell_type": "code",
      "execution_count": null,
      "metadata": {
        "id": "Wg4Nko9DNuQa"
      },
      "outputs": [],
      "source": [
        "# !cp /content/sampled_X_train_100k.pkl /content/drive/MyDrive/vMalConv/sampled_X_train_60k.pkl\n",
        "# !cp /content/sampled_y_train_100k.pkl /content/drive/MyDrive/vMalConv/sampled_y_train_60k.pkl"
      ]
    },
    {
      "cell_type": "code",
      "execution_count": null,
      "metadata": {
        "id": "s01N9WLZNh5i"
      },
      "outputs": [],
      "source": [
        "X_train, y_train  = None, None\n",
        "\n",
        "# # Load X_train and y_train from Pickle files\n",
        "with open('/content/drive/MyDrive/vMalConv/sampled_X_train_100k.pkl', 'rb') as file:\n",
        "    X_train = pickle.load(file)\n",
        "\n",
        "with open('/content/drive/MyDrive/vMalConv/sampled_y_train_100k.pkl', 'rb') as file:\n",
        "    y_train = pickle.load(file)"
      ]
    },
    {
      "cell_type": "markdown",
      "metadata": {
        "id": "F1bRlBWlaQdd"
      },
      "source": [
        "> **Task 1:** Complete the following code to build the architecture of MalConv in PyTorch:"
      ]
    },
    {
      "cell_type": "code",
      "execution_count": null,
      "metadata": {
        "colab": {
          "base_uri": "https://localhost:8080/"
        },
        "id": "XoD0gkUxoux5",
        "outputId": "9bc891d2-af11-4bfc-bd11-0dbd74922d6b"
      },
      "outputs": [
        {
          "name": "stdout",
          "output_type": "stream",
          "text": [
            "MalConv(\n",
            "  (embed): Embedding(3000000, 8)\n",
            "  (conv1): Conv1d(8, 64, kernel_size=(5,), stride=(2,))\n",
            "  (conv2): Conv1d(8, 64, kernel_size=(5,), stride=(2,))\n",
            "  (gating): Sigmoid()\n",
            "  (global_max_pool): AdaptiveMaxPool1d(output_size=1)\n",
            "  (fc1): Linear(in_features=64, out_features=64, bias=True)\n",
            "  (fc2): Linear(in_features=64, out_features=1, bias=True)\n",
            "  (sigmoid): Sigmoid()\n",
            ")\n"
          ]
        }
      ],
      "source": [
        "import torch\n",
        "import torch.nn as nn\n",
        "import torch.nn.functional as F\n",
        "\n",
        "class MalConv(nn.Module):\n",
        "    def __init__(self, input_length=3000000, embedding_dim=8, window_size=5, output_dim=1):\n",
        "        super(MalConv, self).__init__()\n",
        "        self.embed = nn.Embedding(input_length, embedding_dim)\n",
        "        self.conv1 = nn.Conv1d(embedding_dim, 64, kernel_size=window_size, stride=window_size - 3, padding=0)\n",
        "        self.conv2 = nn.Conv1d(embedding_dim, 64, kernel_size=window_size, stride=window_size - 3, padding=0)\n",
        "        self.gating = nn.Sigmoid()\n",
        "        self.global_max_pool = nn.AdaptiveMaxPool1d(1)\n",
        "        self.fc1 = nn.Linear(64, 64)\n",
        "        self.fc2 = nn.Linear(64, output_dim)\n",
        "        self.sigmoid = nn.Sigmoid()\n",
        "\n",
        "    def forward(self, x):\n",
        "        x = self.embed(x)\n",
        "        # Convert to (batch_size, channels, length)\n",
        "        x = x.transpose(1, 2)\n",
        "        conv1 = self.conv1(x)\n",
        "        conv2 = self.conv2(x)\n",
        "        # Element-wise multiplication\n",
        "        gated = conv1 * self.gating(conv2)\n",
        "         # Remove the last dimension\n",
        "        global_max_pool = self.global_max_pool(gated).squeeze(2)\n",
        "        fc1 = F.relu(self.fc1(global_max_pool))\n",
        "        fc2 = self.fc2(fc1)\n",
        "        output = self.sigmoid(fc2)\n",
        "        return output\n",
        "\n",
        "\n",
        "model = MalConv()\n",
        "print(model)"
      ]
    },
    {
      "cell_type": "markdown",
      "metadata": {
        "id": "pihnLcFmbaet"
      },
      "source": [
        "**Step 8:** Partial fit the standardScaler to avoid overloading the memory:"
      ]
    },
    {
      "cell_type": "code",
      "execution_count": null,
      "metadata": {
        "id": "f4v_Ne9KqolJ"
      },
      "outputs": [],
      "source": [
        "# Feature Engineering\n",
        "#we want to standardize the feature, we can use MinMaxScaler like we have used in previous calsses\n",
        "MM= MinMaxScaler(feature_range=(0, 1000))\n",
        "MM.fit(X_train)\n",
        "X_train = MM.transform(X_train)\n",
        "# X_test=ss.fit_transform(X_test)"
      ]
    },
    {
      "cell_type": "code",
      "execution_count": null,
      "metadata": {
        "colab": {
          "base_uri": "https://localhost:8080/"
        },
        "id": "g9p0z7kx0_eZ",
        "outputId": "fde5788c-2545-4697-9d96-7cfc8ca37f08"
      },
      "outputs": [
        {
          "name": "stdout",
          "output_type": "stream",
          "text": [
            "MinMaxScaler saved to minmax_scaler.pkl\n"
          ]
        }
      ],
      "source": [
        "scaler_filename = \"minmax_scaler.pkl\"\n",
        "with open(scaler_filename, \"wb\") as f:\n",
        "  pickle.dump(MM, f)\n",
        "\n",
        "print(f\"MinMaxScaler saved to {scaler_filename}\")"
      ]
    },
    {
      "cell_type": "code",
      "execution_count": null,
      "metadata": {
        "id": "-3WBpEkT1OxI"
      },
      "outputs": [],
      "source": [
        "!cp minmax_scaler.pkl '/content/drive/MyDrive/vMalConv/minmax_scaler.pkl'"
      ]
    },
    {
      "cell_type": "code",
      "execution_count": null,
      "metadata": {
        "colab": {
          "base_uri": "https://localhost:8080/"
        },
        "id": "0xbtg-ZM1aGc",
        "outputId": "7c5a5f02-2b4f-429f-979e-dfd90e4f50dc"
      },
      "outputs": [
        {
          "name": "stdout",
          "output_type": "stream",
          "text": [
            "total 13G\n",
            "drwx------ 2 root root 4.0K Mar 12 05:44 .git\n",
            "-rw------- 1 root root  92M Mar 12 12:59 malConv_model_weights.pt\n",
            "-rw------- 1 root root  48K Mar 12 13:23 minmax_scaler.pkl\n",
            "drwx------ 2 root root 4.0K Mar 12 13:03 model_checkpoints\n",
            "-rw------- 1 root root 4.2M Mar 12 06:51 model_epoch_10.pt\n",
            "-rw------- 1 root root 4.2M Mar 12 06:52 model_epoch_15.pt\n",
            "-rw------- 1 root root 4.2M Mar 12 06:53 model_epoch_20.pt\n",
            "-rw------- 1 root root 4.2M Mar 12 06:54 model_epoch_25.pt\n",
            "-rw------- 1 root root 4.2M Mar 12 06:50 model_epoch_5.pt\n",
            "-rw------- 1 root root 364M Mar 12 01:24 sampled_X_test.pkl\n",
            "-rw------- 1 root root 1.8G Mar 12 01:46 sampled_X_train_100k.pkl\n",
            "-rw------- 1 root root 1.1G Mar 12 01:31 sampled_X_train_60k.pkl\n",
            "-rw------- 1 root root 455M Mar 12 00:35 sampled_X_train.pkl\n",
            "-rw------- 1 root root 909M Mar 12 00:39 sampled_X_train_t_d_C.pkl\n",
            "-rw------- 1 root root 455M Mar 12 00:38 sampled_X_train_t.pkl\n",
            "-rw------- 1 root root 157K Mar 12 01:24 sampled_y_test.pkl\n",
            "-rw------- 1 root root 782K Mar 12 01:47 sampled_y_train_100k.pkl\n",
            "-rw------- 1 root root 469K Mar 12 01:31 sampled_y_train_60k.pkl\n",
            "-rw------- 1 root root 196K Mar 12 00:35 sampled_y_train.pkl\n",
            "-rw------- 1 root root 1.8G Mar 12 00:30 X_test.pkl\n",
            "-rw------- 1 root root 5.4G Mar 12 00:29 X_train.pkl\n",
            "-rw------- 1 root root 782K Mar 12 00:31 y_test.pkl\n",
            "-rw------- 1 root root 2.3M Mar 12 00:30 y_train.pkl\n"
          ]
        }
      ],
      "source": [
        "!ls -alh /content/drive/MyDrive/vMalConv/"
      ]
    },
    {
      "cell_type": "code",
      "execution_count": null,
      "metadata": {
        "colab": {
          "base_uri": "https://localhost:8080/"
        },
        "id": "8GfSZrmcrRRx",
        "outputId": "80256555-5adc-459a-8429-3c8c656e19fe"
      },
      "outputs": [
        {
          "data": {
            "text/plain": [
              "(200000, 2381)"
            ]
          },
          "execution_count": 5,
          "metadata": {},
          "output_type": "execute_result"
        }
      ],
      "source": [
        "X_train.shape"
      ]
    },
    {
      "cell_type": "code",
      "execution_count": null,
      "metadata": {
        "colab": {
          "base_uri": "https://localhost:8080/"
        },
        "id": "rehutW_q3r-p",
        "outputId": "c5496535-7c89-4b1a-f543-2846831e854c"
      },
      "outputs": [
        {
          "data": {
            "text/plain": [
              "array([[214.52763  ,  16.554777 ,  11.367614 , ...,   0.       ,\n",
              "          0.       ,   0.       ],\n",
              "       [161.865    ,   9.345117 ,   7.765581 , ...,   0.       ,\n",
              "          0.       ,   0.       ],\n",
              "       [ 10.920071 ,   5.106545 ,   7.635355 , ...,   2.1646316,\n",
              "          0.       ,   0.       ],\n",
              "       ...,\n",
              "       [441.881    ,  11.59673  ,   7.5959673, ...,   0.       ,\n",
              "          0.       ,   0.       ],\n",
              "       [ 42.252342 ,   4.0523977,   3.9646916, ...,   0.       ,\n",
              "          0.       ,   0.       ],\n",
              "       [150.92     ,  18.592607 ,  11.074494 , ...,   0.       ,\n",
              "          0.       ,   0.       ]], dtype=float32)"
            ]
          },
          "execution_count": 6,
          "metadata": {},
          "output_type": "execute_result"
        }
      ],
      "source": [
        "X_train"
      ]
    },
    {
      "cell_type": "markdown",
      "metadata": {
        "id": "w95a1XO34TXi"
      },
      "source": [
        "No Need"
      ]
    },
    {
      "cell_type": "code",
      "execution_count": null,
      "metadata": {
        "id": "V_vl5yrex0yY"
      },
      "outputs": [],
      "source": [
        "## Reshape to create 3 channels ##\n",
        "#import numpy as np\n",
        "#X_train = np.reshape(X_train,(-1,1,2381))\n",
        "#y_train = np.reshape(y_train,(-1,1,1))"
      ]
    },
    {
      "cell_type": "markdown",
      "metadata": {
        "id": "b1iRXFtuvCps"
      },
      "source": [
        "**Load, Tensorize, and Split** The following code takes care of converting the training data into Torch Tensors, and then splits it into 80% training and 20% validation datasets."
      ]
    },
    {
      "cell_type": "code",
      "execution_count": null,
      "metadata": {
        "id": "Ja3fhJI6qJKN"
      },
      "outputs": [],
      "source": [
        "import torch.optim as optim\n",
        "from torch.utils.data import DataLoader, TensorDataset\n",
        "from sklearn.model_selection import train_test_split\n",
        "\n",
        "# Convert your numpy arrays to PyTorch tensors\n",
        "X_train_tensor = torch.tensor(X_train, dtype=torch.int)\n",
        "y_train_tensor = torch.tensor(y_train, dtype=torch.float32)\n",
        "\n",
        "# Split the data into training and validation sets (80% training, 20% validation)\n",
        "X_train_split, X_val_split, y_train_split, y_val_split = train_test_split(\n",
        "    X_train_tensor, y_train_tensor, test_size=0.25, random_state=42\n",
        ")\n",
        "\n",
        "# Create TensorDatasets and DataLoaders for training and validation sets\n",
        "train_dataset = TensorDataset(X_train_split, y_train_split)\n",
        "val_dataset = TensorDataset(X_val_split, y_val_split)\n",
        "\n",
        "batch_size = 4000  # Adjust based on GPU memory\n",
        "train_loader = DataLoader(train_dataset, batch_size=batch_size, shuffle=True)\n",
        "val_loader = DataLoader(val_dataset, batch_size=batch_size, shuffle=False)"
      ]
    },
    {
      "cell_type": "markdown",
      "metadata": {
        "id": "2zMgth6McCqV"
      },
      "source": [
        "> **Task 2:** Complete the following code to train the model on the GPU for 15 epochs, with a batch size of 64. If you are on Google Colab, don't forget to change the kernel in Runtime -> Change runtime type -> T4 GPU."
      ]
    },
    {
      "cell_type": "code",
      "execution_count": null,
      "metadata": {
        "colab": {
          "base_uri": "https://localhost:8080/"
        },
        "id": "o4q4r6jKXYxp",
        "outputId": "70562558-1f66-44a4-e104-5cb7ac5bd370"
      },
      "outputs": [
        {
          "data": {
            "text/plain": [
              "0"
            ]
          },
          "execution_count": 8,
          "metadata": {},
          "output_type": "execute_result"
        }
      ],
      "source": [
        "import gc\n",
        "\n",
        "del X_train\n",
        "del X_train_split\n",
        "del X_val_split\n",
        "del y_train\n",
        "del y_train_split\n",
        "del y_val_split\n",
        "\n",
        "gc.collect()"
      ]
    },
    {
      "cell_type": "code",
      "execution_count": null,
      "metadata": {
        "colab": {
          "base_uri": "https://localhost:8080/",
          "height": 701
        },
        "id": "fXXW3PbLtpeC",
        "outputId": "a89eeaa1-717f-41fa-cc8d-f0f2474f5bb4"
      },
      "outputs": [
        {
          "name": "stdout",
          "output_type": "stream",
          "text": [
            "Epoch 1, Training Loss: 0.6736811305347242, Validation Loss: 0.641278707064115\n",
            "Epoch 2, Training Loss: 0.5808345597041281, Validation Loss: 0.5138574976187485\n",
            "Epoch 3, Training Loss: 0.47225125604554224, Validation Loss: 0.43094526345913226\n",
            "Epoch 4, Training Loss: 0.40524586799897644, Validation Loss: 0.3789050212273231\n",
            "Epoch 5, Training Loss: 0.3613747028928054, Validation Loss: 0.34825871540949893\n",
            "Model checkpoint saved to ./model_checkpoints/model_epoch_5.pt\n",
            "Epoch 6, Training Loss: 0.33705400401040125, Validation Loss: 0.33074538524334246\n",
            "Epoch 7, Training Loss: 0.32160747835510656, Validation Loss: 0.320548761349458\n",
            "Epoch 8, Training Loss: 0.3120211151085402, Validation Loss: 0.3116742166189047\n",
            "Epoch 9, Training Loss: 0.3022562320295133, Validation Loss: 0.3064528153492854\n",
            "Epoch 10, Training Loss: 0.2955634350839414, Validation Loss: 0.29853354279811567\n",
            "Model checkpoint saved to ./model_checkpoints/model_epoch_10.pt\n"
          ]
        },
        {
          "data": {
            "image/png": "[encoded data removed]",
            "text/plain": [
              "<Figure size 1000x500 with 1 Axes>"
            ]
          },
          "metadata": {},
          "output_type": "display_data"
        }
      ],
      "source": [
        "import torch\n",
        "import torch.optim as optim\n",
        "import torch.nn.functional as F\n",
        "import os\n",
        "import matplotlib.pyplot as plt\n",
        "\n",
        "model = MalConv()\n",
        "\n",
        "# Move model to GPU if available\n",
        "device = torch.device(\"cuda\" if torch.cuda.is_available() else \"cpu\")\n",
        "model.to(device)\n",
        "\n",
        "# Loss function and optimizer\n",
        "criterion = nn.BCELoss()\n",
        "optimizer = torch.optim.Adam(model.parameters(), lr=0.001)\n",
        "\n",
        "# Directory to save model checkpoints\n",
        "save_dir = \"./model_checkpoints\"\n",
        "os.makedirs(save_dir, exist_ok=True)\n",
        "\n",
        "# Training Loop with Validation\n",
        "num_epochs = 10\n",
        "train_losses = []\n",
        "val_losses = []\n",
        "\n",
        "# Function to check early stopping\n",
        "def early_stopping(val_losses, patience=5):\n",
        "    if len(val_losses) < patience + 1:\n",
        "        return False\n",
        "    return all(val_losses[-1] >= val_losses[-i - 1] for i in range(1, patience + 1))\n",
        "\n",
        "# Early stopping parameters\n",
        "patience = 5\n",
        "early_stopping_counter = 0\n",
        "\n",
        "for epoch in range(num_epochs):\n",
        "    model.train()\n",
        "    running_loss = 0.0\n",
        "\n",
        "    for inputs, labels in train_loader:\n",
        "        inputs, labels = inputs.to(device), labels.to(device)\n",
        "\n",
        "        optimizer.zero_grad()\n",
        "\n",
        "        outputs = model(inputs)\n",
        "        loss = criterion(outputs.squeeze(), labels.float())\n",
        "        loss.backward()\n",
        "        optimizer.step()\n",
        "\n",
        "        running_loss += loss.item()\n",
        "\n",
        "    epoch_loss = running_loss / len(train_loader)\n",
        "    train_losses.append(epoch_loss)\n",
        "\n",
        "    model.eval()\n",
        "    val_loss = 0.0\n",
        "    with torch.no_grad():\n",
        "        for inputs, labels in val_loader:\n",
        "            inputs, labels = inputs.to(device), labels.to(device)\n",
        "            outputs = model(inputs)\n",
        "            loss = criterion(outputs.squeeze(), labels.float())\n",
        "            val_loss += loss.item()\n",
        "\n",
        "    epoch_val_loss = val_loss / len(val_loader)\n",
        "    val_losses.append(epoch_val_loss)\n",
        "\n",
        "    print(f'Epoch {epoch+1}, Training Loss: {epoch_loss}, Validation Loss: {epoch_val_loss}')\n",
        "\n",
        "    # Check for early stopping\n",
        "    if early_stopping(val_losses, patience):\n",
        "        print(f'Early stopping after {epoch+1} epochs without improvement.')\n",
        "        break\n",
        "\n",
        "    if (epoch + 1) % 5 == 0:\n",
        "        checkpoint_path = os.path.join(save_dir, f'model_epoch_{epoch+1}.pt')\n",
        "        torch.save({\n",
        "            'epoch': epoch + 1,\n",
        "            'model_state_dict': model.state_dict(),\n",
        "            'optimizer_state_dict': optimizer.state_dict(),\n",
        "            'loss': loss,\n",
        "        }, checkpoint_path)\n",
        "        print(f'Model checkpoint saved to {checkpoint_path}')\n",
        "\n",
        "# Plotting the training and validation loss\n",
        "plt.figure(figsize=(10, 5))\n",
        "plt.plot(train_losses, label='Training Loss')\n",
        "plt.plot(val_losses, label='Validation Loss')\n",
        "plt.xlabel('Epochs')\n",
        "plt.ylabel('Loss')\n",
        "plt.title('Training and Validation Loss')\n",
        "plt.legend()\n",
        "plt.show()"
      ]
    },
    {
      "cell_type": "code",
      "execution_count": null,
      "metadata": {
        "id": "pB-Qrjh8ADw1"
      },
      "outputs": [],
      "source": [
        "X_test, y_test  = None, None\n",
        "\n",
        "# # Load X_train and y_train from Pickle files\n",
        "with open('/content/drive/MyDrive/vMalConv/sampled_X_test.pkl', 'rb') as file:\n",
        "    X_test = pickle.load(file)\n",
        "\n",
        "with open('/content/drive/MyDrive/vMalConv/sampled_y_test.pkl', 'rb') as file:\n",
        "    y_test = pickle.load(file)"
      ]
    },
    {
      "cell_type": "code",
      "execution_count": null,
      "metadata": {
        "id": "qRU7xZ23IFt1"
      },
      "outputs": [],
      "source": [
        "X_test = X_test[:1000]\n",
        "y_test = y_test[:1000]"
      ]
    },
    {
      "cell_type": "code",
      "execution_count": null,
      "metadata": {
        "id": "LY6Ktd0GAJLD"
      },
      "outputs": [],
      "source": [
        "X_test = MM.transform(X_test)"
      ]
    },
    {
      "cell_type": "code",
      "execution_count": null,
      "metadata": {
        "colab": {
          "base_uri": "https://localhost:8080/"
        },
        "id": "v37l4CKY2qMZ",
        "outputId": "11ee42e1-0fca-4635-84bf-68791f23f0bd"
      },
      "outputs": [
        {
          "name": "stdout",
          "output_type": "stream",
          "text": [
            "Test Accuracy: 0.8220\n",
            "Precision: 0.7839\n",
            "Recall: 0.8770\n"
          ]
        }
      ],
      "source": [
        "from sklearn.metrics import accuracy_score, precision_score, recall_score\n",
        "\n",
        "# Convert test data to PyTorch tensors\n",
        "X_test_tensor = torch.tensor(X_test, dtype=torch.int)\n",
        "y_test_tensor = torch.tensor(y_test, dtype=torch.float32)\n",
        "\n",
        "# Create a TensorDataset and DataLoader for test data\n",
        "test_dataset = TensorDataset(X_test_tensor, y_test_tensor)\n",
        "test_loader = DataLoader(test_dataset, batch_size=batch_size, shuffle=False)\n",
        "\n",
        "# Ensure the model is in evaluation mode\n",
        "model.eval()\n",
        "\n",
        "# Lists to store model predictions and actual labels\n",
        "predictions = []\n",
        "labels_list = []  # Renamed to avoid confusion with the loop variable\n",
        "\n",
        "with torch.no_grad():\n",
        "    for inputs, labels_batch in test_loader:\n",
        "        inputs = inputs.to(device)  # Move inputs to the same device as model\n",
        "        outputs = model(inputs)\n",
        "        predicted = torch.round(outputs.squeeze())  # Convert probabilities to binary predictions (0 or 1)\n",
        "\n",
        "        # Store predictions and labels\n",
        "        predictions.extend(predicted.cpu().numpy())\n",
        "        labels_list.extend(labels_batch.cpu().numpy())\n",
        "\n",
        "# Compute metrics\n",
        "accuracy = accuracy_score(labels_list, predictions)\n",
        "precision = precision_score(labels_list, predictions)\n",
        "recall = recall_score(labels_list, predictions)\n",
        "\n",
        "print(f'Test Accuracy: {accuracy:.4f}')\n",
        "print(f'Precision: {precision:.4f}')\n",
        "print(f'Recall: {recall:.4f}')"
      ]
    },
    {
      "cell_type": "code",
      "execution_count": null,
      "metadata": {
        "colab": {
          "base_uri": "https://localhost:8080/",
          "height": 509
        },
        "id": "rTnHGA9EkWk3",
        "outputId": "2b025e64-08bd-40f6-e435-155a246ceee4"
      },
      "outputs": [
        {
          "name": "stdout",
          "output_type": "stream",
          "text": [
            "Test Accuracy: 0.8220\n",
            "Precision: 0.7839\n",
            "Recall: 0.8770\n"
          ]
        },
        {
          "data": {
            "image/png": "[encoded data removed]",
            "text/plain": [
              "<Figure size 480x480 with 2 Axes>"
            ]
          },
          "metadata": {},
          "output_type": "display_data"
        }
      ],
      "source": [
        "import matplotlib.pyplot as plt\n",
        "from sklearn.metrics import confusion_matrix\n",
        "\n",
        "accuracy = accuracy_score(labels_list, predictions)\n",
        "precision = precision_score(labels_list, predictions)\n",
        "recall = recall_score(labels_list, predictions)\n",
        "cm = confusion_matrix(labels_list, predictions)\n",
        "\n",
        "print(f'Test Accuracy: {accuracy:.4f}')\n",
        "print(f'Precision: {precision:.4f}')\n",
        "print(f'Recall: {recall:.4f}')\n",
        "\n",
        "# Plot the confusion matrix\n",
        "plt.matshow(cm, cmap=plt.cm.Blues)\n",
        "plt.colorbar()\n",
        "class_names = ['Benign', 'Malware']\n",
        "plt.xticks(range(len(class_names)), class_names, rotation=45)\n",
        "plt.yticks(range(len(class_names)), class_names)\n",
        "plt.xlabel('Predicted Label')\n",
        "plt.ylabel('True Label')\n",
        "plt.title('Confusion Matrix')\n",
        "\n",
        "for i in range(len(cm)):\n",
        "  for j in range(len(cm)):\n",
        "    plt.text(j, i, cm[i, j], ha='center', va='center', fontsize=8)\n",
        "\n",
        "plt.show()"
      ]
    },
    {
      "cell_type": "code",
      "execution_count": null,
      "metadata": {
        "colab": {
          "base_uri": "https://localhost:8080/"
        },
        "id": "j3_79MkhyTGk",
        "outputId": "7370456d-16ec-4121-dd1d-43b8c9a6bfaa"
      },
      "outputs": [
        {
          "name": "stdout",
          "output_type": "stream",
          "text": [
            "Model weights saved to malConv_model_weights.pt\n",
            "Full model checkpoint saved to ./model_checkpoints/model_final_checkpoint.pt\n"
          ]
        }
      ],
      "source": [
        "# Save the model parameters\n",
        "model_weights_path = \"malConv_model_weights.pt\"\n",
        "torch.save(model.state_dict(), model_weights_path)\n",
        "print(f\"Model weights saved to {model_weights_path}\")\n",
        "# Save a checkpoint including model state, optimizer state, and other info\n",
        "checkpoint_path = os.path.join(save_dir, \"model_final_checkpoint.pt\")\n",
        "torch.save({\n",
        "    'epoch': num_epochs,\n",
        "    'model_state_dict': model.state_dict(),\n",
        "    'optimizer_state_dict': optimizer.state_dict(),\n",
        "    'last_loss': loss.item(),\n",
        "    # Include any other information you need\n",
        "}, checkpoint_path)\n",
        "print(f\"Full model checkpoint saved to {checkpoint_path}\")"
      ]
    },
    {
      "cell_type": "code",
      "execution_count": null,
      "metadata": {
        "colab": {
          "base_uri": "https://localhost:8080/"
        },
        "id": "pGrJYSEAv4be",
        "outputId": "bc1d2d6b-08c0-4951-e603-271f23d2ba2b"
      },
      "outputs": [
        {
          "name": "stdout",
          "output_type": "stream",
          "text": [
            "total 92M\n",
            "drwxr-xr-x 1 root root 4.0K Mar 12 12:59 .\n",
            "drwxr-xr-x 1 root root 4.0K Mar 12 11:52 ..\n",
            "drwxr-xr-x 4 root root 4.0K Mar  8 14:25 .config\n",
            "drwx------ 5 root root 4.0K Mar 12 11:53 drive\n",
            "-rw-r--r-- 1 root root  92M Mar 12 12:59 malConv_model_weights.pt\n",
            "drwxr-xr-x 2 root root 4.0K Mar 12 12:59 model_checkpoints\n",
            "drwxr-xr-x 1 root root 4.0K Mar  8 14:25 sample_data\n"
          ]
        }
      ],
      "source": [
        "!ls -lah"
      ]
    },
    {
      "cell_type": "code",
      "execution_count": null,
      "metadata": {
        "colab": {
          "base_uri": "https://localhost:8080/"
        },
        "id": "ta3smb-YzS91",
        "outputId": "10a7ee2c-f3e2-4161-be20-0efedf872fd1"
      },
      "outputs": [
        {
          "name": "stdout",
          "output_type": "stream",
          "text": [
            "Loaded model from disk\n"
          ]
        }
      ],
      "source": [
        "#reload model\n",
        "\n",
        "# Create a new model instance\n",
        "model = MalConv()\n",
        "\n",
        "# Load the weights\n",
        "model.load_state_dict(torch.load(\"malConv_model_weights.pt\"))\n",
        "\n",
        "# Move model to GPU if available\n",
        "device = torch.device(\"cuda\" if torch.cuda.is_available() else \"cpu\")\n",
        "model.to(device)\n",
        "\n",
        "model.eval()\n",
        "\n",
        "print(\"Loaded model from disk\")\n",
        "\n",
        "# #  load the full checkpoint\n",
        "# checkpoint = torch.load(\"/content/model_checkpoints/model_final_checkpoint.pt\")\n",
        "# model.load_state_dict(checkpoint['model_state_dict'])\n",
        "# optimizer = optim.Adam(model.parameters(), lr=0.001)  # Adjust hyperparameters as needed\n",
        "# optimizer.load_state_dict(checkpoint['optimizer_state_dict'])"
      ]
    },
    {
      "cell_type": "markdown",
      "metadata": {
        "id": "W6fLYYxps91N"
      },
      "source": [
        "**Task 4:** Comment on the results in this text box.   \n",
        "\n",
        "\n",
        "The Model was developed using pytorch and trained on over 200k datapoints with the help of google colab provided free T4 GPU. The training and testing accuracy are pretty good. F1 -score = 2*(0.7839* 0.8770)/(0.7839 + 0.8770) = 0.828. There seems to be higher False positives and that is somewhat concerning. More training should be done to make sure that doesn't happen and more higher end resources would be required to develop and train more complex and powerful models."
      ]
    }
  ],
  "metadata": {
    "accelerator": "GPU",
    "colab": {
      "gpuType": "T4",
      "provenance": []
    },
    "kernelspec": {
      "display_name": "Python 3",
      "name": "python3"
    }
  },
  "nbformat": 4,
  "nbformat_minor": 0
}